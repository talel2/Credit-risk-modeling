{
 "cells": [
  {
   "cell_type": "code",
   "execution_count": 1,
   "id": "9d363132",
   "metadata": {},
   "outputs": [],
   "source": [
    "import numpy as np\n",
    "from flask import Flask, request, jsonify, render_template\n",
    "import pickle\n",
    "import pandas as pd\n",
    "from zipfile import ZipFile\n",
    "import json"
   ]
  },
  {
   "cell_type": "code",
   "execution_count": 3,
   "id": "578beed6",
   "metadata": {},
   "outputs": [
    {
     "name": "stdout",
     "output_type": "stream",
     "text": [
      " * Serving Flask app \"__main__\" (lazy loading)\n",
      " * Environment: production\n",
      "   WARNING: This is a development server. Do not use it in a production deployment.\n",
      "   Use a production WSGI server instead.\n",
      " * Debug mode: off\n"
     ]
    },
    {
     "name": "stderr",
     "output_type": "stream",
     "text": [
      " * Running on http://127.0.0.1:5000/ (Press CTRL+C to quit)\n"
     ]
    }
   ],
   "source": [
    "app = Flask(__name__)\n",
    "# tell Flask to use the above defined config\n",
    "\n",
    "@app.route(\"/\")\n",
    "def hello():\n",
    "    \"\"\"\n",
    "    Ping the API.\n",
    "    \"\"\"\n",
    "    return jsonify({\"text\":\"Hello, the API is up and running...\" })\n",
    "\n",
    "@app.route('/credit/<id_client>', methods=['GET'])\n",
    "def credit(id_client):\n",
    "\n",
    "        pickle_in = open('model/RandomForestClassifier.pkl', 'rb') \n",
    "        clf = pickle.load(pickle_in)\n",
    "        z = ZipFile(\"data/X_sample_30.zip\")\n",
    "        sample = pd.read_csv(z.open('X_sample.csv'), index_col='SK_ID_CURR', encoding ='utf-8')\n",
    "        X=sample.iloc[:, :126]\n",
    "        score = clf.predict_proba(X[X.index == int(id_client)])[:,1]\n",
    "        predict = clf.predict(X[X.index == int(id_client)])\n",
    "\n",
    "        # round the predict proba value and set to new variable\n",
    "        percent_score = score*100\n",
    "        id_risk = np.round(percent_score, 3)\n",
    "        # create JSON object\n",
    "        output = {'prediction': int(predict), 'client risk in %': float(id_risk)}\n",
    "\n",
    "\n",
    "        print('Nouvelle Prédiction : \\n', output)\n",
    "\n",
    "        return jsonify(output)\n",
    "if __name__ == '__main__':\n",
    "    app.run()"
   ]
  },
  {
   "cell_type": "code",
   "execution_count": null,
   "id": "8a8f8148",
   "metadata": {},
   "outputs": [],
   "source": []
  }
 ],
 "metadata": {
  "kernelspec": {
   "display_name": "Python 3",
   "language": "python",
   "name": "python3"
  },
  "language_info": {
   "codemirror_mode": {
    "name": "ipython",
    "version": 3
   },
   "file_extension": ".py",
   "mimetype": "text/x-python",
   "name": "python",
   "nbconvert_exporter": "python",
   "pygments_lexer": "ipython3",
   "version": "3.8.8"
  }
 },
 "nbformat": 4,
 "nbformat_minor": 5
}
